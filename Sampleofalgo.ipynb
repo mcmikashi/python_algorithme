{
  "nbformat": 4,
  "nbformat_minor": 0,
  "metadata": {
    "colab": {
      "provenance": [],
      "collapsed_sections": [],
      "authorship_tag": "ABX9TyPO5Gle7OpupJlF2Ab/iM+I",
      "include_colab_link": true
    },
    "kernelspec": {
      "name": "python3",
      "display_name": "Python 3"
    },
    "language_info": {
      "name": "python"
    }
  },
  "cells": [
    {
      "cell_type": "markdown",
      "metadata": {
        "id": "view-in-github",
        "colab_type": "text"
      },
      "source": [
        "<a href=\"https://colab.research.google.com/github/mcmikashi/python_algorithme/blob/main/Sampleofalgo.ipynb\" target=\"_parent\"><img src=\"https://colab.research.google.com/assets/colab-badge.svg\" alt=\"Open In Colab\"/></a>"
      ]
    },
    {
      "cell_type": "markdown",
      "source": [
        "## **Minimum Value**"
      ],
      "metadata": {
        "id": "gywudis8-KaK"
      }
    },
    {
      "cell_type": "code",
      "source": [
        "def minimum_value(array : list) -> int:\n",
        "  \"\"\"Return the minimum  value of integer sequences\"\"\"\n",
        "  min = None\n",
        "  set_array = set(array)\n",
        "  for number in set_array:\n",
        "    if min:\n",
        "      if number < min:\n",
        "        min = number\n",
        "    else:\n",
        "      min = number\n",
        "  return min\n",
        "array = [11,16,36,4,22,65,10,8,30,44,10]\n",
        "array1 = [ 60 , 50 , 95 , 80 , 70 ]\n",
        "assert  minimum_value(array) == 4\n",
        "assert  minimum_value(array1) == 50"
      ],
      "metadata": {
        "id": "hboMcRYc-R2C"
      },
      "execution_count": 1,
      "outputs": []
    },
    {
      "cell_type": "markdown",
      "source": [
        "### **Maximum Value**"
      ],
      "metadata": {
        "id": "g5PePL3yBbzt"
      }
    },
    {
      "cell_type": "code",
      "execution_count": null,
      "metadata": {
        "id": "Nn8tCGHbBa4B"
      },
      "outputs": [],
      "source": [
        "def maximum_value(array : list) -> int:\n",
        "  \"\"\"Return the maximum  value of integer sequences\"\"\"\n",
        "  max = None\n",
        "  set_array = set(array)\n",
        "  for number in set_array:\n",
        "    if max:\n",
        "      if number > max:\n",
        "        max = number\n",
        "    else:\n",
        "      max = number\n",
        "  return max\n",
        "\n",
        "array = [11,1,3,4,2,6,10,8,30,44,10]\n",
        "array1 = [ 60 , 50 , 95 , 80 , 70 ]\n",
        "assert  maximum_value(array) == 44\n",
        "assert  maximum_value(array1) == 95"
      ]
    },
    {
      "cell_type": "markdown",
      "source": [
        "### **Select Sorting Algorithm**"
      ],
      "metadata": {
        "id": "mT1rL5u5DjwA"
      }
    },
    {
      "cell_type": "code",
      "source": [
        "def select_sorting(array : list) -> list:\n",
        "  \"\"\"Return the list sorted \"\"\"\n",
        "  sorted_array = array.copy()\n",
        "  length = len(sorted_array)\n",
        "  for i in range(length-1):\n",
        "    min_index = None\n",
        "    for j in range(i,length):\n",
        "      if min_index:\n",
        "        if sorted_array[min_index] > sorted_array[j]:\n",
        "          min_index = j\n",
        "      else:\n",
        "        min_index = j\n",
        "    temp = sorted_array[min_index]\n",
        "    sorted_array.pop(min_index)\n",
        "    sorted_array.insert(i,temp)\n",
        "  return sorted_array\n",
        "array = [2,4,1,3,5]\n",
        "array1 = [ 60 , 50 , 95 , 80 , 70 ]\n",
        "assert select_sorting(array) == [1,2,3,4,5]\n",
        "assert select_sorting(array1) == [50,60,70,80,95]"
      ],
      "metadata": {
        "id": "AHH-iy8MDoBY"
      },
      "execution_count": 2,
      "outputs": []
    },
    {
      "cell_type": "markdown",
      "source": [
        "### **Bubble Sorting Algorithm**\n",
        "\n",
        "\n",
        "\n",
        "\n"
      ],
      "metadata": {
        "id": "n-wqjOpYJinJ"
      }
    },
    {
      "cell_type": "code",
      "source": [
        "def bubble_sorting(array : list) -> list:\n",
        "  \"\"\"Return the list sorted \"\"\"\n",
        "  sorted_array = array.copy()\n",
        "  length = len(sorted_array)\n",
        "  for i in range(length):\n",
        "    for j in range(length-1-i):\n",
        "      if sorted_array[j] > sorted_array[j+1]:\n",
        "        sorted_array[j], sorted_array[j+1] = sorted_array[j+1], sorted_array[j]\n",
        "  return sorted_array\n",
        "array = [2,4,1,3,5]\n",
        "array1 = [ 60 , 50 , 95 , 80 , 70 ]\n",
        "assert bubble_sorting(array) == [1,2,3,4,5]\n",
        "assert bubble_sorting(array1) == [50,60,70,80,95]\n"
      ],
      "metadata": {
        "id": "9LJej_GbJTeJ"
      },
      "execution_count": null,
      "outputs": []
    }
  ]
}